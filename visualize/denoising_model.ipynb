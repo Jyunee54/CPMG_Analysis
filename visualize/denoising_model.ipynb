{
 "cells": [
  {
   "cell_type": "code",
   "id": "initial_id",
   "metadata": {
    "collapsed": true,
    "ExecuteTime": {
     "end_time": "2025-04-21T06:57:08.978158Z",
     "start_time": "2025-04-21T06:57:06.921981Z"
    }
   },
   "source": [
    "from imports.models import *\n",
    "from imports.utils import *\n",
    "import adabound as Adabound\n",
    "\n",
    "import matplotlib.pyplot as plt\n",
    "import plotly.graph_objects as go\n",
    "import numpy as np\n",
    "import glob\n",
    "import time\n",
    "import copy\n",
    "np.set_printoptions(suppress=True)\n",
    "\n",
    "from multiprocessing import Pool\n",
    "POOL_PROCESS = 23\n",
    "FILE_GEN_INDEX = 2\n",
    "pool = Pool(processes=POOL_PROCESS)\n",
    "\n",
    "import torch\n",
    "import torch.nn as nn\n",
    "import torch.optim as optim\n",
    "from sklearn.utils import shuffle\n",
    "import itertools"
   ],
   "outputs": [],
   "execution_count": 1
  },
  {
   "metadata": {},
   "cell_type": "code",
   "outputs": [],
   "execution_count": null,
   "source": [
    "time_resolution = 0.004\n",
    "time_data = np.arange(0, 60, time_resolution)\n",
    "\n",
    "MAGNETIC_FIELD = 403.553\n",
    "GYRO_MAGNETIC_RATIO = 1.07*1000       # Unit: Herts\n",
    "WL_VALUE = MAGNETIC_FIELD*GYRO_MAGNETIC_RATIO*2*np.pi\n",
    "N_PULSE_32 = 32\n",
    "N_PULSE_256 = 256\n",
    "\n",
    "# SAVE_MLISTS = './'\n",
    "\n",
    "N_SAMPLES_TRAIN = 8192*4\n",
    "N_SAMPLES_VALID = 8192\n",
    "data_size = 1024\n",
    "GPU_INDEX = '0'"
   ],
   "id": "b5502c3e4593156"
  }
 ],
 "metadata": {
  "kernelspec": {
   "display_name": "Python 3",
   "language": "python",
   "name": "python3"
  },
  "language_info": {
   "codemirror_mode": {
    "name": "ipython",
    "version": 2
   },
   "file_extension": ".py",
   "mimetype": "text/x-python",
   "name": "python",
   "nbconvert_exporter": "python",
   "pygments_lexer": "ipython2",
   "version": "2.7.6"
  }
 },
 "nbformat": 4,
 "nbformat_minor": 5
}
