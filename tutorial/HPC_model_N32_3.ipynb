{
 "nbformat": 4,
 "nbformat_minor": 0,
 "metadata": {
  "colab": {
   "provenance": [],
   "machine_shape": "hm"
  },
  "kernelspec": {
   "name": "python3",
   "display_name": "Python 3 (ipykernel)",
   "language": "python"
  },
  "accelerator": "GPU"
 },
 "cells": [
  {
   "cell_type": "code",
   "metadata": {
    "id": "Yfu3tuZjkM8-",
    "ExecuteTime": {
     "end_time": "2025-06-13T09:46:07.784190Z",
     "start_time": "2025-06-13T09:46:04.830128Z"
    }
   },
   "source": [
    "from imports.models import *\n",
    "from imports.utils import *\n",
    "import adabound as Adabound"
   ],
   "outputs": [],
   "execution_count": 1
  },
  {
   "cell_type": "code",
   "metadata": {
    "id": "_8SAEhV8ZFPX",
    "ExecuteTime": {
     "end_time": "2025-06-13T09:46:08.288496Z",
     "start_time": "2025-06-13T09:46:07.787829Z"
    }
   },
   "source": [
    "import matplotlib.pyplot as plt\n",
    "import plotly.graph_objects as go\n",
    "import numpy as np\n",
    "import glob\n",
    "import sys\n",
    "import time\n",
    "np.set_printoptions(suppress=True)"
   ],
   "outputs": [],
   "execution_count": 2
  },
  {
   "cell_type": "code",
   "metadata": {
    "id": "paQ2_Glbo5og",
    "ExecuteTime": {
     "end_time": "2025-06-13T09:46:09.810115Z",
     "start_time": "2025-06-13T09:46:08.463480Z"
    }
   },
   "source": [
    "from multiprocessing import Pool\n",
    "POOL_PROCESS = 23\n",
    "FILE_GEN_INDEX = 2\n",
    "pool = Pool(processes=POOL_PROCESS)\n",
    "\n",
    "import torch\n",
    "import torch.nn as nn\n",
    "import torch.optim as optim\n",
    "from sklearn.utils import shuffle\n",
    "import itertools"
   ],
   "outputs": [],
   "execution_count": 3
  },
  {
   "cell_type": "code",
   "metadata": {
    "id": "NLSuFAEKuomv",
    "ExecuteTime": {
     "end_time": "2025-06-13T09:46:09.844692Z",
     "start_time": "2025-06-13T09:46:09.827858Z"
    }
   },
   "source": "total_indices = np.load('../tutorial_data/total_indices_v4_full.npy', allow_pickle=True).item()",
   "outputs": [],
   "execution_count": 4
  },
  {
   "cell_type": "code",
   "metadata": {
    "id": "WMbg1UlLsM0N",
    "ExecuteTime": {
     "end_time": "2025-06-13T09:46:11.241671Z",
     "start_time": "2025-06-13T09:46:09.851691Z"
    }
   },
   "source": [
    "AB_lists_dic = np.load('../tutorial_data/AB_target_dic_v4_s0.npy', allow_pickle=True).item()\n",
    "for i in range(1, 16):\n",
    "    temp = np.load('../tutorial_data/AB_target_dic_v4_s{}.npy'.format(i), allow_pickle=True).item()\n",
    "    AB_lists_dic.update(temp)"
   ],
   "outputs": [],
   "execution_count": 5
  },
  {
   "cell_type": "code",
   "metadata": {
    "id": "4PZL2_Z3kTf1",
    "colab": {
     "base_uri": "https://localhost:8080/",
     "height": 173
    },
    "outputId": "bfe18c91-470e-4f48-c024-e3b47c1a9545",
    "ExecuteTime": {
     "end_time": "2025-06-13T09:46:11.254238Z",
     "start_time": "2025-06-13T09:46:11.250783Z"
    }
   },
   "source": [
    "print(\"Generation of datasets excuted.\", time.asctime())\n",
    "tic = time.time()\n",
    "\n",
    "time_resolution = 0.004\n",
    "time_data = np.arange(0, 60, time_resolution)\n",
    "print(len(time_data))\n",
    "\n",
    "PRE_PROCESS = False\n",
    "PRE_SCALE = 1\n",
    "\n",
    "MAGNETIC_FIELD = 403.553                        # Unit: Gauss\n",
    "GYRO_MAGNETIC_RATIO = 1.0705*1000               # Unit: Herts\n",
    "WL_VALUE = MAGNETIC_FIELD*GYRO_MAGNETIC_RATIO*2*np.pi\n",
    "\n",
    "CUDA_DEVICE = 0\n",
    "N_PULSE = 32\n",
    "\n",
    "IMAGE_WIDTH = 7\n",
    "TIME_RANGE  = 15000"
   ],
   "outputs": [
    {
     "name": "stdout",
     "output_type": "stream",
     "text": [
      "Generation of datasets excuted. Fri Jun 13 18:46:11 2025\n",
      "15000\n"
     ]
    }
   ],
   "execution_count": 6
  },
  {
   "metadata": {
    "ExecuteTime": {
     "end_time": "2025-06-13T09:46:11.271683Z",
     "start_time": "2025-06-13T09:46:11.268690Z"
    }
   },
   "cell_type": "code",
   "source": [
    "A_init  = 10000  # a lower bound of the range\n",
    "A_final = 10500  # a upper bound of the range\n",
    "A_step  = 250  # a step size of one model.\n",
    "A_range = 200  # a range which is covered by each model.\n",
    "B_init  = 12000\n",
    "B_final = 70000\n",
    "noise_scale = 0.05  # Addding noises to the simulated data. It does not significantly affect the results. You may try other values.\n",
    "SAVE_DIR_NAME = './tutorial_data/'\n",
    "\n",
    "ADD_EXISTING_SPIN = False\n",
    "\n",
    "model_lists = get_AB_model_lists(A_init, A_final, A_step, A_range, B_init, B_final)\n",
    "print(\"=============== Model lists ===============\\n [A_init, A_final, B_init, B_final]\\n\", model_lists)\n",
    "print(\"\\nThe number of models:\", len(model_lists))\n",
    "print(\"The range of one model:\", A_range, 'Hz')"
   ],
   "outputs": [
    {
     "name": "stdout",
     "output_type": "stream",
     "text": [
      "=============== Model lists ===============\n",
      " [A_init, A_final, B_init, B_final]\n",
      " [[10000 10200 12000 70000]\n",
      " [10250 10450 12000 70000]\n",
      " [10500 10700 12000 70000]]\n",
      "\n",
      "The number of models: 3\n",
      "The range of one model: 200 Hz\n"
     ]
    }
   ],
   "execution_count": 7
  },
  {
   "cell_type": "code",
   "metadata": {
    "id": "Vu2mF6sVqSPd",
    "colab": {
     "base_uri": "https://localhost:8080/",
     "height": 104
    },
    "outputId": "a900e9ca-18c4-4dab-b18a-03c2d2c1026d",
    "ExecuteTime": {
     "end_time": "2025-06-10T05:40:58.677006Z",
     "start_time": "2025-06-10T05:40:44.594630Z"
    }
   },
   "source": [
    "total_raw_pred_list = []\n",
    "total_deno_pred_list = []\n",
    "total_A_lists = []\n",
    "\n",
    "for model_idx, [A_first, A_end, B_first, B_end] in enumerate(model_lists):\n",
    "\n",
    "    print(\"========================================================================\")\n",
    "    print('A_first:{}, A_end:{}, B_first:{}, B_end:{}'.format(A_first, A_end, B_first, B_end))\n",
    "    print(\"TIME_RANGE, B_first, B_final, IMAGE_WIDTH\", TIME_RANGE, B_first, B_final, IMAGE_WIDTH)\n",
    "    print(\"========================================================================\")\n",
    "    A_num = 1\n",
    "    B_num = 1\n",
    "    A_resol, B_resol = 50, B_end-B_first+500\n",
    "\n",
    "    A_idx_list = np.arange(A_first, A_end+A_resol, A_num*A_resol)\n",
    "    if (B_end-B_first)%B_resol==0:\n",
    "        B_idx_list = np.arange(B_first, B_end+B_resol, B_num*B_resol)\n",
    "    else:\n",
    "        B_idx_list = np.arange(B_first, B_end, B_num*B_resol)\n",
    "    AB_idx_set = [[A_idx, B_idx] for A_idx, B_idx in itertools.product(A_idx_list, B_idx_list)]\n",
    "\n",
    "    if abs(AB_idx_set[0][0]) < 10000: continue\n",
    "    A_side_num = 8\n",
    "    A_side_resol = 600\n",
    "\n",
    "    B_target_gap = 0\n",
    "    A_target_margin = 25\n",
    "    A_side_margin = 300\n",
    "    A_far_side_margin = 5000\n",
    "    distance_btw_target_side = 650\n",
    "    class_num = A_num*B_num + 1\n",
    "    side_candi_num = 5\n",
    "\n",
    "    image_width = IMAGE_WIDTH\n",
    "    class_num = A_num*B_num + 1\n",
    "    cpu_num_for_multi = 20\n",
    "    batch_for_multi = 128\n",
    "    class_batch = cpu_num_for_multi*batch_for_multi\n",
    "\n",
    "    spin_zero_scale = {'same':0.5, 'side':0.20, 'mid':0.05, 'far':0.05}\n",
    "\n",
    "    if N_PULSE==32:\n",
    "        B_side_min, B_side_max = 6000, 70000\n",
    "        B_side_gap = 5000\n",
    "        B_target_gap = 1000\n",
    "\n",
    "    elif N_PULSE==256:\n",
    "        B_side_min, B_side_max = 1000, 25000\n",
    "        B_side_gap = 500\n",
    "        B_target_gap = 0\n",
    "\n",
    "    if ((N_PULSE == 32) & (B_first<11000)):\n",
    "        PRE_PROCESS = True\n",
    "        PRE_SCALE = 8\n",
    "        print(\"==================== PRE_PROCESSING:True =====================\")\n",
    "\n",
    "    args = (AB_lists_dic, N_PULSE, A_num, B_num, A_resol, B_resol, A_side_num, A_side_resol, B_side_min,\n",
    "                B_side_max, B_target_gap, B_side_gap, A_target_margin, A_side_margin, A_far_side_margin,\n",
    "                class_batch, class_num, spin_zero_scale, distance_btw_target_side, side_candi_num)\n",
    "\n",
    "    TPk_AB_candi, Y_train_arr, _ = gen_TPk_AB_candidates(AB_idx_set, False, *args)\n",
    "    if ADD_EXISTING_SPIN == True:\n",
    "        TPk_AB_candi = return_existing_spins_wrt_margins(deno_pred_N32_B12000_above, TPk_AB_candi, A_existing_margin, B_existing_margin)\n",
    "\n",
    "    total_idx = []\n",
    "    for AB_temp_set in AB_idx_set:\n",
    "        A_temp_index = AB_temp_set[0]\n",
    "        temp_idx = get_model_index(total_indices, A_temp_index, time_thres_idx=TIME_RANGE-20, image_width=image_width)\n",
    "        temp_idx = return_index_without_A_idx(total_indices, temp_idx, 0, TIME_RANGE, width=25)[0]\n",
    "        total_idx.append(temp_idx.shape[0])\n",
    "    cut_idx = min(total_idx)\n",
    "\n",
    "    X_train_arr = np.zeros((class_num, len(AB_idx_set)*class_batch, cut_idx, 2*image_width+1))\n",
    "    X_train_TPk_arr = np.zeros((class_num, len(AB_idx_set)*class_batch, 1))\n",
    "\n",
    "    for idx1, [A_idx, B_idx] in enumerate(AB_idx_set):\n",
    "        model_index = get_model_index(total_indices, A_idx, time_thres_idx=TIME_RANGE-20, image_width=image_width)\n",
    "        model_index = return_index_without_A_idx(total_indices, model_index, 0, TIME_RANGE, width=25)[0]\n",
    "        model_index = model_index[:cut_idx, :]\n",
    "\n",
    "        for class_idx in range(class_num):\n",
    "            for idx2 in range(cpu_num_for_multi):\n",
    "                AB_lists_batch = TPk_AB_candi[class_idx, idx1*class_batch+idx2*batch_for_multi:idx1*class_batch+(idx2+1)*batch_for_multi]\n",
    "                globals()[\"pool_{}\".format(idx2)] = pool.apply_async(gen_M_arr_batch, [AB_lists_batch, model_index, time_data[:TIME_RANGE],\n",
    "                                                                                        WL_VALUE, N_PULSE, PRE_PROCESS, PRE_SCALE,\n",
    "                                                                                        noise_scale])\n",
    "\n",
    "            for idx3 in range(cpu_num_for_multi):\n",
    "                X_train_arr[class_idx, idx1*class_batch+idx3*batch_for_multi:idx1*class_batch+(idx3+1)*batch_for_multi] = globals()[\"pool_{}\".format(idx3)].get(timeout=None)\n",
    "                X_train_TPk_arr[class_idx, idx1*class_batch+idx3*batch_for_multi:idx1*class_batch+(idx3+1)*batch_for_multi, 0] = A_idx\n",
    "            print(\"_\", end=' ')\n",
    "            print(\"X_train_arr.shape: \", X_train_arr.shape)\n",
    "\n",
    "    np.save(f\"{SAVE_DIR_NAME}/cut_idx/cut_idx_A{A_first}_A{A_end}.npy\", cut_idx)\n",
    "    print(\"\\nData Generation Completed.\")\n",
    "\n",
    "    # class 확인\n",
    "    idx = np.random.randint(X_train_arr.shape[1])\n",
    "    plt.figure(facecolor='w')\n",
    "    plt.pcolor(X_train_arr[1][idx])\n",
    "    plt.title(\"Class 1\")\n",
    "\n",
    "    idx = np.random.randint(X_train_arr.shape[1])\n",
    "    plt.figure(facecolor='w')\n",
    "    plt.pcolor(X_train_arr[0][idx])\n",
    "    plt.title(\"Class 2\")\n",
    "\n",
    "    torch.cuda.set_device(device=CUDA_DEVICE)\n",
    "    epochs = 15\n",
    "    valid_batch = 4096\n",
    "    valid_mini_batch = 1024\n",
    "\n",
    "    # Reshape\n",
    "    X_train_arr = X_train_arr.reshape(class_num * len(AB_idx_set) * class_batch, model_index.flatten().shape[0])\n",
    "    Y_train_arr = Y_train_arr.reshape(class_num * len(AB_idx_set) * class_batch, class_num)\n",
    "\n",
    "    X_train_arr, Y_train_arr = shuffle(X_train_arr, Y_train_arr)\n",
    "    model = HPC(X_train_arr.shape[1], Y_train_arr.shape[1]).cuda()\n",
    "    np.save(SAVE_DIR_NAME + f'hpc_model_params/A{A_first}_{A_end}_B{B_first}_{B_end}.npy', [X_train_arr.shape[1], Y_train_arr.shape[1]])\n",
    "\n",
    "    print(\"Reshaped X_train_arr.shape: \", X_train_arr.shape)\n",
    "    print(\"X_train_arr.shpae[1]: \", X_train_arr.shape[1])\n",
    "    print(\"Y_train_arr.shape[1]: \", Y_train_arr.shape[1])\n",
    "\n",
    "    try:\n",
    "        model(torch.Tensor(X_train_arr[:5]).cuda())\n",
    "    except:\n",
    "        raise NameError(\"The input shape should be revised\")\n",
    "\n",
    "    total_parameter = sum(p.numel() for p in model.parameters())\n",
    "    print('total_parameter: ', total_parameter / 1000000, 'M')\n",
    "\n",
    "    MODEL_PATH = SAVE_DIR_NAME + 'hpc_model/'\n",
    "    if not os.path.exists(MODEL_PATH): os.mkdir(MODEL_PATH)\n",
    "\n",
    "    mini_batch_list = [2048]\n",
    "    learning_rate_list = [5e-6]\n",
    "    op_list = [['Adabound', [30,15,7,1]]]\n",
    "    criterion = nn.BCELoss().cuda()\n",
    "    hyperparameter_set = [[mini_batch, learning_rate, selected_optim_name] for mini_batch, learning_rate, selected_optim_name in itertools.product(mini_batch_list, learning_rate_list, op_list)]\n",
    "    print(\"==================== A_idx: {}, B_idx: {} ======================\".format(A_first, B_first))\n",
    "\n",
    "    total_loss, total_val_loss, total_acc, trained_model = train(MODEL_PATH, N_PULSE, X_train_arr, Y_train_arr, model, hyperparameter_set, criterion,\n",
    "                                                                epochs, valid_batch, valid_mini_batch, A_first, A_end, B_first, B_end)\n",
    "\n",
    "    np.save(SAVE_DIR_NAME + f'hpc_model_path/A{A_first}_{A_end}_B{B_first}_{B_end}.npy', trained_model)\n",
    "    min_A = np.min(np.array(AB_idx_set)[:,0])\n",
    "    max_A = np.max(np.array(AB_idx_set)[:,0])\n",
    "\n",
    "    model.load_state_dict(torch.load(trained_model[0][0]))\n",
    "    model.eval()\n",
    "    print(\"Model loaded as evalutation mode. Model path:\", trained_model[0][0])\n"
   ],
   "outputs": [
    {
     "name": "stdout",
     "output_type": "stream",
     "text": [
      "========================================================================\n",
      "A_first:10000, A_end:10200, B_first:12000, B_end:70000\n",
      "TIME_RANGE, B_first, B_final, IMAGE_WIDTH 15000 12000 70000 7\n",
      "========================================================================\n",
      "_ X_train_arr.shape:  (2, 12800, 42, 15)\n",
      "_ X_train_arr.shape:  (2, 12800, 42, 15)\n",
      "_ X_train_arr.shape:  (2, 12800, 42, 15)\n",
      "_ X_train_arr.shape:  (2, 12800, 42, 15)\n",
      "_ X_train_arr.shape:  (2, 12800, 42, 15)\n",
      "_ X_train_arr.shape:  (2, 12800, 42, 15)\n",
      "_ X_train_arr.shape:  (2, 12800, 42, 15)\n",
      "_ X_train_arr.shape:  (2, 12800, 42, 15)\n",
      "_ X_train_arr.shape:  (2, 12800, 42, 15)\n",
      "_ X_train_arr.shape:  (2, 12800, 42, 15)\n",
      "\n",
      "Data Generation Completed.\n",
      "Reshaped X_train_arr.shape:  (25600, 630)\n",
      "X_train_arr.shpae[1]:  630\n",
      "total_parameter:  3.923458 M\n",
      "==================== A_idx: 10000, B_idx: 12000 ======================\n",
      "train_batch:  21504 valid_batch:  4096\n",
      "\n",
      "\n",
      "========================================================================================================\n",
      " Training Start:  Tue Jun 10 14:40:47 2025\n",
      " mini_batch: 2048  | learning_rate:  5e-06  | selected_optim_name:  ['Adabound', [30, 15, 7, 1]]  |\n",
      "========================================================================================================\n",
      "Epoch:    1  | Loss = 0.22511 | Val_loss: 0.53139 | Accuracy: 79.79 % | time: 0.383(s) | lr:  5e-06\n",
      "Epoch:    2  | Loss = 0.07563 | Val_loss: 0.38561 | Accuracy: 85.94 % | time: 0.09(s) | lr:  5e-06\n",
      "Epoch:    3  | Loss = 0.05091 | Val_loss: 0.15576 | Accuracy: 97.36 % | time: 0.087(s) | lr:  5e-06\n",
      "Epoch:    4  | Loss = 0.04467 | Val_loss: 0.08195 | Accuracy: 98.63 % | time: 0.09(s) | lr:  5e-06\n",
      "Epoch:    5  | Loss = 0.04431 | Val_loss: 0.05623 | Accuracy: 99.12 % | time: 0.092(s) | lr:  5e-06\n",
      "Epoch:    6  | Loss = 0.04181 | Val_loss: 0.04272 | Accuracy: 99.51 % | time: 0.097(s) | lr:  5e-06\n",
      "Epoch:    7  | Loss = 0.04167 | Val_loss: 0.04014 | Accuracy: 99.41 % | time: 0.09(s) | lr:  5e-06\n",
      "Epoch:    8  | Loss = 0.03956 | Val_loss: 0.04326 | Accuracy: 99.02 % | time: 0.088(s) | lr:  1.75e-06\n",
      "Epoch:    9  | Loss = 0.03698 | Val_loss: 0.03721 | Accuracy: 99.51 % | time: 0.088(s) | lr:  1.75e-06\n",
      "Epoch:   10  | Loss = 0.03781 | Val_loss: 0.03755 | Accuracy: 99.22 % | time: 0.09(s) | lr:  6.125e-07\n",
      "Epoch:   11  | Loss = 0.03710 | Val_loss: 0.04104 | Accuracy: 99.22 % | time: 0.101(s) | lr:  2.1437499999999996e-07\n",
      "Epoch:   12  | Loss = 0.03594 | Val_loss: 0.03663 | Accuracy: 99.32 % | time: 0.089(s) | lr:  2.1437499999999996e-07\n",
      "Epoch:   13  | Loss = 0.03673 | Val_loss: 0.04367 | Accuracy: 99.12 % | time: 0.09(s) | lr:  7.503124999999999e-08\n",
      "Epoch:   14  | Loss = 0.03674 | Val_loss: 0.03303 | Accuracy: 99.32 % | time: 0.091(s) | lr:  7.503124999999999e-08\n",
      "Epoch:   15  | Loss = 0.03738 | Val_loss: 0.03663 | Accuracy: 99.41 % | time: 0.094(s) | lr:  2.6260937499999994e-08\n",
      "Done. Training Time:  Tue Jun 10 14:40:49 2025\n",
      "Total consumed time: 1.803234577178955\n",
      "Model loaded as evalutation mode. Model path: ./tutorial_data/hpc_model/_N32_A10000_10200_B12000_70000_batch2048_lr5e-06_Adabound.pt\n",
      "========================================================================\n",
      "A_first:10250, A_end:10450, B_first:12000, B_end:70000\n",
      "TIME_RANGE, B_first, B_final, IMAGE_WIDTH 15000 12000 70000 7\n",
      "========================================================================\n",
      "_ X_train_arr.shape:  (2, 12800, 42, 15)\n",
      "_ X_train_arr.shape:  (2, 12800, 42, 15)\n",
      "_ X_train_arr.shape:  (2, 12800, 42, 15)\n",
      "_ X_train_arr.shape:  (2, 12800, 42, 15)\n",
      "_ X_train_arr.shape:  (2, 12800, 42, 15)\n",
      "_ X_train_arr.shape:  (2, 12800, 42, 15)\n",
      "_ X_train_arr.shape:  (2, 12800, 42, 15)\n",
      "_ X_train_arr.shape:  (2, 12800, 42, 15)\n",
      "_ X_train_arr.shape:  (2, 12800, 42, 15)\n",
      "_ X_train_arr.shape:  (2, 12800, 42, 15)\n",
      "\n",
      "Data Generation Completed.\n",
      "Reshaped X_train_arr.shape:  (25600, 630)\n",
      "X_train_arr.shpae[1]:  630\n",
      "total_parameter:  3.923458 M\n",
      "==================== A_idx: 10250, B_idx: 12000 ======================\n",
      "train_batch:  21504 valid_batch:  4096\n",
      "\n",
      "\n",
      "========================================================================================================\n",
      " Training Start:  Tue Jun 10 14:40:52 2025\n",
      " mini_batch: 2048  | learning_rate:  5e-06  | selected_optim_name:  ['Adabound', [30, 15, 7, 1]]  |\n",
      "========================================================================================================\n",
      "Epoch:    1  | Loss = 0.22747 | Val_loss: 0.52303 | Accuracy: 78.03 % | time: 0.229(s) | lr:  5e-06\n",
      "Epoch:    2  | Loss = 0.07306 | Val_loss: 0.42050 | Accuracy: 77.05 % | time: 0.093(s) | lr:  5e-06\n",
      "Epoch:    3  | Loss = 0.04957 | Val_loss: 0.20838 | Accuracy: 94.53 % | time: 0.088(s) | lr:  5e-06\n",
      "Epoch:    4  | Loss = 0.04430 | Val_loss: 0.08335 | Accuracy: 98.83 % | time: 0.087(s) | lr:  5e-06\n",
      "Epoch:    5  | Loss = 0.04342 | Val_loss: 0.05777 | Accuracy: 99.12 % | time: 0.087(s) | lr:  5e-06\n",
      "Epoch:    6  | Loss = 0.04063 | Val_loss: 0.04443 | Accuracy: 99.41 % | time: 0.09(s) | lr:  5e-06\n",
      "Epoch:    7  | Loss = 0.04091 | Val_loss: 0.03936 | Accuracy: 99.61 % | time: 0.087(s) | lr:  5e-06\n",
      "Epoch:    8  | Loss = 0.03785 | Val_loss: 0.04435 | Accuracy: 98.93 % | time: 0.088(s) | lr:  1.75e-06\n",
      "Epoch:    9  | Loss = 0.03690 | Val_loss: 0.03651 | Accuracy: 99.51 % | time: 0.09(s) | lr:  1.75e-06\n",
      "Epoch:   10  | Loss = 0.03575 | Val_loss: 0.04141 | Accuracy: 99.12 % | time: 0.093(s) | lr:  6.125e-07\n",
      "Epoch:   11  | Loss = 0.03597 | Val_loss: 0.03643 | Accuracy: 99.51 % | time: 0.088(s) | lr:  6.125e-07\n",
      "Epoch:   12  | Loss = 0.03682 | Val_loss: 0.03901 | Accuracy: 99.32 % | time: 0.09(s) | lr:  2.1437499999999996e-07\n",
      "Epoch:   13  | Loss = 0.03649 | Val_loss: 0.03590 | Accuracy: 99.41 % | time: 0.09(s) | lr:  2.1437499999999996e-07\n",
      "Epoch:   14  | Loss = 0.03456 | Val_loss: 0.03679 | Accuracy: 99.22 % | time: 0.087(s) | lr:  7.503124999999999e-08\n",
      "Epoch:   15  | Loss = 0.03511 | Val_loss: 0.04038 | Accuracy: 99.12 % | time: 0.087(s) | lr:  2.6260937499999994e-08\n",
      "Done. Training Time:  Tue Jun 10 14:40:53 2025\n",
      "Total consumed time: 1.6181347370147705\n",
      "Model loaded as evalutation mode. Model path: ./tutorial_data/hpc_model/_N32_A10250_10450_B12000_70000_batch2048_lr5e-06_Adabound.pt\n",
      "========================================================================\n",
      "A_first:10500, A_end:10700, B_first:12000, B_end:70000\n",
      "TIME_RANGE, B_first, B_final, IMAGE_WIDTH 15000 12000 70000 7\n",
      "========================================================================\n",
      "_ X_train_arr.shape:  (2, 12800, 43, 15)\n",
      "_ X_train_arr.shape:  (2, 12800, 43, 15)\n",
      "_ X_train_arr.shape:  (2, 12800, 43, 15)\n",
      "_ X_train_arr.shape:  (2, 12800, 43, 15)\n",
      "_ X_train_arr.shape:  (2, 12800, 43, 15)\n",
      "_ X_train_arr.shape:  (2, 12800, 43, 15)\n",
      "_ X_train_arr.shape:  (2, 12800, 43, 15)\n",
      "_ X_train_arr.shape:  (2, 12800, 43, 15)\n",
      "_ X_train_arr.shape:  (2, 12800, 43, 15)\n",
      "_ X_train_arr.shape:  (2, 12800, 43, 15)\n",
      "\n",
      "Data Generation Completed.\n",
      "Reshaped X_train_arr.shape:  (25600, 645)\n",
      "X_train_arr.shpae[1]:  645\n",
      "total_parameter:  3.954178 M\n",
      "==================== A_idx: 10500, B_idx: 12000 ======================\n",
      "train_batch:  21504 valid_batch:  4096\n",
      "\n",
      "\n",
      "========================================================================================================\n",
      " Training Start:  Tue Jun 10 14:40:56 2025\n",
      " mini_batch: 2048  | learning_rate:  5e-06  | selected_optim_name:  ['Adabound', [30, 15, 7, 1]]  |\n",
      "========================================================================================================\n",
      "Epoch:    1  | Loss = 0.20946 | Val_loss: 0.52614 | Accuracy: 74.80 % | time: 0.281(s) | lr:  5e-06\n",
      "Epoch:    2  | Loss = 0.07078 | Val_loss: 0.44558 | Accuracy: 73.24 % | time: 0.092(s) | lr:  5e-06\n",
      "Epoch:    3  | Loss = 0.04572 | Val_loss: 0.18626 | Accuracy: 94.92 % | time: 0.092(s) | lr:  5e-06\n",
      "Epoch:    4  | Loss = 0.04028 | Val_loss: 0.07515 | Accuracy: 99.22 % | time: 0.092(s) | lr:  5e-06\n",
      "Epoch:    5  | Loss = 0.03876 | Val_loss: 0.04560 | Accuracy: 99.61 % | time: 0.093(s) | lr:  5e-06\n",
      "Epoch:    6  | Loss = 0.03742 | Val_loss: 0.04146 | Accuracy: 99.61 % | time: 0.092(s) | lr:  5e-06\n",
      "Epoch:    7  | Loss = 0.03623 | Val_loss: 0.04340 | Accuracy: 99.12 % | time: 0.089(s) | lr:  1.75e-06\n",
      "Epoch:    8  | Loss = 0.03446 | Val_loss: 0.04087 | Accuracy: 99.12 % | time: 0.09(s) | lr:  1.75e-06\n",
      "Epoch:    9  | Loss = 0.03444 | Val_loss: 0.04066 | Accuracy: 99.41 % | time: 0.089(s) | lr:  1.75e-06\n",
      "Epoch:   10  | Loss = 0.03488 | Val_loss: 0.03352 | Accuracy: 99.61 % | time: 0.096(s) | lr:  1.75e-06\n",
      "Epoch:   11  | Loss = 0.03406 | Val_loss: 0.03571 | Accuracy: 99.51 % | time: 0.089(s) | lr:  6.125e-07\n",
      "Epoch:   12  | Loss = 0.03169 | Val_loss: 0.03709 | Accuracy: 99.41 % | time: 0.09(s) | lr:  2.1437499999999996e-07\n",
      "Epoch:   13  | Loss = 0.03205 | Val_loss: 0.03379 | Accuracy: 99.61 % | time: 0.092(s) | lr:  2.1437499999999996e-07\n",
      "Epoch:   14  | Loss = 0.03265 | Val_loss: 0.03427 | Accuracy: 99.71 % | time: 0.092(s) | lr:  7.503124999999999e-08\n",
      "Done. Training Time:  Tue Jun 10 14:40:58 2025\n",
      "Total consumed time: 1.6065378189086914\n",
      "Model loaded as evalutation mode. Model path: ./tutorial_data/hpc_model/_N32_A10500_10700_B12000_70000_batch2048_lr5e-06_Adabound.pt\n"
     ]
    },
    {
     "data": {
      "text/plain": [
       "<Figure size 640x480 with 1 Axes>"
      ],
      "image/png": "[encoded data removed]"
     },
     "metadata": {},
     "output_type": "display_data"
    },
    {
     "data": {
      "text/plain": [
       "<Figure size 640x480 with 1 Axes>"
      ],
      "image/png": "[encoded data removed]"
     },
     "metadata": {},
     "output_type": "display_data"
    },
    {
     "data": {
      "text/plain": [
       "<Figure size 640x480 with 1 Axes>"
      ],
      "image/png": "[encoded data removed]"
     },
     "metadata": {},
     "output_type": "display_data"
    },
    {
     "data": {
      "text/plain": [
       "<Figure size 640x480 with 1 Axes>"
      ],
      "image/png": "[encoded data removed]"
     },
     "metadata": {},
     "output_type": "display_data"
    },
    {
     "data": {
      "text/plain": [
       "<Figure size 640x480 with 1 Axes>"
      ],
      "image/png": "[encoded data removed]"
     },
     "metadata": {},
     "output_type": "display_data"
    },
    {
     "data": {
      "text/plain": [
       "<Figure size 640x480 with 1 Axes>"
      ],
      "image/png": "[encoded data removed]"
     },
     "metadata": {},
     "output_type": "display_data"
    }
   ],
   "execution_count": 24
  },
  {
   "metadata": {
    "ExecuteTime": {
     "end_time": "2025-06-10T05:13:31.436176Z",
     "start_time": "2025-06-10T05:13:31.432968Z"
    }
   },
   "cell_type": "code",
   "source": [
    "exp_data = np.load('../data/exp_data_3/exp_data_32.npy')\n",
    "print(exp_data.shape)"
   ],
   "outputs": [
    {
     "name": "stdout",
     "output_type": "stream",
     "text": [
      "(1000,)\n"
     ]
    }
   ],
   "execution_count": 17
  },
  {
   "metadata": {
    "ExecuteTime": {
     "end_time": "2025-06-10T05:17:06.812722Z",
     "start_time": "2025-06-10T05:17:06.809207Z"
    }
   },
   "cell_type": "code",
   "source": [
    "exp_data = np.array(exp_data)  # (1000,)\n",
    "\n",
    "# 예를 들어 time_index = 43개 구간, window_size = 15로 sliding window\n",
    "time_index = 43\n",
    "window_size = 15\n",
    "\n",
    "# (43, 15)로 자르기 (예시)\n",
    "exp_data_windows = []\n",
    "step = (len(exp_data) - window_size) // (time_index - 1)\n",
    "for i in range(0, len(exp_data) - window_size + 1, step):\n",
    "    window = exp_data[i:i+window_size]\n",
    "    if window.shape[0] == window_size:\n",
    "        exp_data_windows.append(window)\n",
    "exp_data_windows = np.array(exp_data_windows)\n",
    "\n",
    "# exp_data_windows.shape => (43, 15)\n",
    "assert exp_data_windows.shape == (43, 15)\n",
    "\n",
    "# flatten\n",
    "exp_data_test = exp_data_windows.flatten().reshape(1, -1)\n",
    "print(\"exp_data_test.shape:\", exp_data_test.shape)  # (1, 645)\n"
   ],
   "outputs": [
    {
     "name": "stdout",
     "output_type": "stream",
     "text": [
      "exp_data_test.shape: (1, 645)\n"
     ]
    }
   ],
   "execution_count": 18
  },
  {
   "metadata": {
    "ExecuteTime": {
     "end_time": "2025-06-10T05:17:20.490926Z",
     "start_time": "2025-06-10T05:17:20.463784Z"
    }
   },
   "cell_type": "code",
   "source": [
    "with torch.no_grad():\n",
    "    model.eval()\n",
    "    exp_data_test_tensor = torch.Tensor(exp_data_test).cuda()\n",
    "    pred = model(exp_data_test_tensor)\n"
   ],
   "outputs": [],
   "execution_count": 19
  },
  {
   "metadata": {
    "ExecuteTime": {
     "end_time": "2025-06-10T05:17:51.870403Z",
     "start_time": "2025-06-10T05:17:51.867798Z"
    }
   },
   "cell_type": "code",
   "source": "print(pred.shape)",
   "outputs": [
    {
     "name": "stdout",
     "output_type": "stream",
     "text": [
      "torch.Size([1, 2])\n"
     ]
    }
   ],
   "execution_count": 21
  },
  {
   "metadata": {
    "ExecuteTime": {
     "end_time": "2025-06-10T05:17:58.301407Z",
     "start_time": "2025-06-10T05:17:58.297408Z"
    }
   },
   "cell_type": "code",
   "source": "print(pred)",
   "outputs": [
    {
     "name": "stdout",
     "output_type": "stream",
     "text": [
      "tensor([[0.9719, 0.0269]], device='cuda:0')\n"
     ]
    }
   ],
   "execution_count": 22
  },
  {
   "cell_type": "markdown",
   "metadata": {
    "id": "jz5deCY8iUCa"
   },
   "source": [
    "___\n",
    "### Let's evaluate the simulated CPMG signal with using the trained model which covers the following range.\n",
    "\n",
    "\n",
    "Note: The simulated data will be intentionally include (or exclude) a spin in the range below.\n",
    "\n",
    "========================================================================<br>\n",
    "A_range:10000 ~ 10200 (Hz)<br>\n",
    "B_range:12000 ~ 70000 (Hz)<br>\n",
    "========================================================================<br>"
   ]
  },
  {
   "cell_type": "code",
   "metadata": {
    "id": "iPt7AbRuAaTW",
    "ExecuteTime": {
     "end_time": "2025-05-08T08:21:21.890517Z",
     "start_time": "2025-05-08T08:21:21.887647Z"
    }
   },
   "source": [
    "A_index = 10050\n",
    "target_spin = AB_lists_dic[A_index][500] / 1000\n",
    "total_spins = np.array([\n",
    "                        target_spin,\n",
    "                        [41, 53],\n",
    "                        [18, 11],\n",
    "                        [-17, 18],\n",
    "                        [-23, 15],\n",
    "                        [-35, 28],\n",
    "])"
   ],
   "outputs": [],
   "execution_count": 14
  },
  {
   "metadata": {},
   "cell_type": "code",
   "outputs": [],
   "execution_count": null,
   "source": ""
  },
  {
   "cell_type": "code",
   "metadata": {
    "id": "G137P3abi4g0",
    "colab": {
     "base_uri": "https://localhost:8080/",
     "height": 298
    },
    "outputId": "a4e84191-aa42-4436-a941-6784467deb10",
    "ExecuteTime": {
     "end_time": "2025-05-08T08:21:23.358918Z",
     "start_time": "2025-05-08T08:21:23.120073Z"
    }
   },
   "source": [
    "M_values = M_list_return(time_data*1e-6, WL_VALUE, total_spins*2000*np.pi, N_PULSE)\n",
    "M_modified = 1 - M_values[model_index]\n",
    "plt.figure(facecolor='w')\n",
    "plt.pcolor(M_modified)\n",
    "plt.colorbar()\n",
    "plt.title('Test image')"
   ],
   "outputs": [
    {
     "data": {
      "text/plain": [
       "Text(0.5, 1.0, 'Test image')"
      ]
     },
     "execution_count": 15,
     "metadata": {},
     "output_type": "execute_result"
    },
    {
     "data": {
      "text/plain": [
       "<Figure size 640x480 with 2 Axes>"
      ],
      "image/png": "[encoded data removed]"
     },
     "metadata": {},
     "output_type": "display_data"
    }
   ],
   "execution_count": 15
  },
  {
   "cell_type": "markdown",
   "metadata": {
    "id": "X4ncINfrtP52"
   },
   "source": [
    "____\n",
    "\n",
    "*   It obviously shows a vertical line at the center, which indicates the signal has a spin with the same period as the target period. <br>\n",
    ": So, the predicted confidence score should have the highest value in Class 2 dimension.\n",
    "\n"
   ]
  },
  {
   "cell_type": "code",
   "metadata": {
    "id": "qZqUFyBirzPf",
    "colab": {
     "base_uri": "https://localhost:8080/",
     "height": 34
    },
    "outputId": "d7896805-ca3c-4ef2-eaca-22e57e25d2db",
    "ExecuteTime": {
     "end_time": "2025-05-08T08:21:26.085803Z",
     "start_time": "2025-05-08T08:21:26.020906Z"
    }
   },
   "source": [
    "M_modified_tensor = torch.Tensor(M_modified.flatten()).cuda()\n",
    "M_modified_tensor = torch.unsqueeze(M_modified_tensor, 0)\n",
    "model(M_modified_tensor)"
   ],
   "outputs": [
    {
     "data": {
      "text/plain": [
       "tensor([[0.0350, 0.9452]], device='cuda:0', grad_fn=<SigmoidBackward0>)"
      ]
     },
     "execution_count": 16,
     "metadata": {},
     "output_type": "execute_result"
    }
   ],
   "execution_count": 16
  },
  {
   "cell_type": "markdown",
   "metadata": {
    "id": "2vv32DZAv3aI"
   },
   "source": [
    "___\n",
    "It shows the highest confidence score in 2nd dimension which indicates there is one target spin."
   ]
  },
  {
   "cell_type": "code",
   "metadata": {
    "id": "2J0zA798i4rC",
    "ExecuteTime": {
     "end_time": "2025-05-08T08:21:27.526811Z",
     "start_time": "2025-05-08T08:21:27.524621Z"
    }
   },
   "source": [
    "total_spins = np.array([\n",
    "                        [41, 53],\n",
    "                        [18, 11],\n",
    "                        [-17, 18],\n",
    "                        [-23, 15],\n",
    "                        [-35, 28],\n",
    "])"
   ],
   "outputs": [],
   "execution_count": 17
  },
  {
   "cell_type": "code",
   "metadata": {
    "id": "RIIblV-ei4zV",
    "colab": {
     "base_uri": "https://localhost:8080/",
     "height": 298
    },
    "outputId": "e79d6ee0-b254-4439-e58b-c9d57cfb0c2a",
    "ExecuteTime": {
     "end_time": "2025-05-08T08:21:28.936070Z",
     "start_time": "2025-05-08T08:21:28.840592Z"
    }
   },
   "source": [
    "M_values = M_list_return(time_data*1e-6, WL_VALUE, total_spins*2000*np.pi, N_PULSE)\n",
    "M_modified = 1 - M_values[model_index]\n",
    "plt.figure(facecolor='w')\n",
    "plt.pcolor(M_modified)\n",
    "plt.colorbar()\n",
    "plt.title('Test image')"
   ],
   "outputs": [
    {
     "data": {
      "text/plain": [
       "Text(0.5, 1.0, 'Test image')"
      ]
     },
     "execution_count": 18,
     "metadata": {},
     "output_type": "execute_result"
    },
    {
     "data": {
      "text/plain": [
       "<Figure size 640x480 with 2 Axes>"
      ],
      "image/png": "[encoded data removed]"
     },
     "metadata": {},
     "output_type": "display_data"
    }
   ],
   "execution_count": 18
  },
  {
   "cell_type": "code",
   "metadata": {
    "id": "kD3gUJg2i48x",
    "colab": {
     "base_uri": "https://localhost:8080/",
     "height": 34
    },
    "outputId": "6a370d96-be03-4122-ed7e-97d525812b62",
    "ExecuteTime": {
     "end_time": "2025-05-08T08:21:31.173310Z",
     "start_time": "2025-05-08T08:21:31.164318Z"
    }
   },
   "source": [
    "M_modified_tensor = torch.Tensor(M_modified.flatten()).cuda()\n",
    "M_modified_tensor = torch.unsqueeze(M_modified_tensor, 0)\n",
    "model(M_modified_tensor)"
   ],
   "outputs": [
    {
     "data": {
      "text/plain": [
       "tensor([[0.9906, 0.0060]], device='cuda:0', grad_fn=<SigmoidBackward0>)"
      ]
     },
     "execution_count": 19,
     "metadata": {},
     "output_type": "execute_result"
    }
   ],
   "execution_count": 19
  },
  {
   "cell_type": "markdown",
   "metadata": {
    "id": "pxSrQgFKvlF-"
   },
   "source": [
    "___\n",
    "It shows the highest confidence score in 1st dimension which indicates there is no target spin."
   ]
  },
  {
   "cell_type": "code",
   "metadata": {
    "id": "CgJm9lr3v15y"
   },
   "source": [],
   "execution_count": null,
   "outputs": []
  }
 ]
}
