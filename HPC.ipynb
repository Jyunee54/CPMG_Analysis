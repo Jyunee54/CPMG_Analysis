{
 "cells": [
  {
   "cell_type": "code",
   "id": "initial_id",
   "metadata": {
    "collapsed": true,
    "ExecuteTime": {
     "end_time": "2025-06-19T05:02:02.339482Z",
     "start_time": "2025-06-19T05:01:57.832290Z"
    }
   },
   "source": [
    "from imports.models import *\n",
    "from imports.utils import *\n",
    "import adabound as Adabound"
   ],
   "outputs": [],
   "execution_count": 1
  },
  {
   "metadata": {
    "ExecuteTime": {
     "end_time": "2025-06-19T05:02:02.774920Z",
     "start_time": "2025-06-19T05:02:02.346132Z"
    }
   },
   "cell_type": "code",
   "source": [
    "import matplotlib.pyplot as plt\n",
    "import plotly.graph_objects as go\n",
    "import numpy as np\n",
    "import glob\n",
    "import sys\n",
    "import time\n",
    "np.set_printoptions(suppress=True)"
   ],
   "id": "21a71a959d6ab74f",
   "outputs": [],
   "execution_count": 2
  },
  {
   "metadata": {
    "ExecuteTime": {
     "end_time": "2025-06-19T05:02:05.545829Z",
     "start_time": "2025-06-19T05:02:04.066390Z"
    }
   },
   "cell_type": "code",
   "source": [
    "from multiprocessing import Pool\n",
    "POOL_PROCESS = 23\n",
    "FILE_GEN_INDEX = 2\n",
    "pool = Pool(processes=POOL_PROCESS)\n",
    "\n",
    "import torch\n",
    "import torch.nn as nn\n",
    "import torch.optim as optim\n",
    "from sklearn.utils import shuffle\n",
    "import itertools"
   ],
   "id": "e28d1c5d3047e51c",
   "outputs": [],
   "execution_count": 3
  },
  {
   "metadata": {
    "ExecuteTime": {
     "end_time": "2025-06-19T05:02:05.916803Z",
     "start_time": "2025-06-19T05:02:05.549046Z"
    }
   },
   "cell_type": "code",
   "source": [
    "total_indices = np.load('./data/total_indices/total_indices_v4_full.npy', allow_pickle=True).item()\n",
    "AB_lists_dic = np.load('./data/AB_target_dic/AB_target_dic_v4.npy', allow_pickle=True).item()"
   ],
   "id": "c10c7f0d3d89316b",
   "outputs": [],
   "execution_count": 4
  },
  {
   "metadata": {
    "ExecuteTime": {
     "end_time": "2025-06-19T05:17:17.615142Z",
     "start_time": "2025-06-19T05:17:17.611576Z"
    }
   },
   "cell_type": "code",
   "source": [
    "A_init  = 17900  # a lower bound of the range\n",
    "A_final = 18400  # a upper bound of the range\n",
    "A_step  = 250  # a step size of one model.\n",
    "A_range = 200  # a range which is covered by each model.\n",
    "B_init  = 12000\n",
    "B_final = 70000\n",
    "time_range = 10000\n",
    "image_width = 100\n",
    "N_PULSE = 32\n",
    "SAVE_DIR_NAME = './data/results/'\n",
    "\n",
    "ADD_EXISTING_SPIN = False\n",
    "\n",
    "model_lists = get_AB_model_lists(A_init, A_final, A_step, A_range, B_init, B_final)\n",
    "print(\"=============== Model lists ===============\\n [A_init, A_final, B_init, B_final]\\n\", model_lists)\n",
    "print(\"\\nThe number of models:\", len(model_lists))\n",
    "print(\"The range of one model:\", A_range, 'Hz')"
   ],
   "id": "9d93cc2a7300de86",
   "outputs": [
    {
     "name": "stdout",
     "output_type": "stream",
     "text": [
      "=============== Model lists ===============\n",
      " [A_init, A_final, B_init, B_final]\n",
      " [[17900 18100 12000 70000]\n",
      " [18150 18350 12000 70000]\n",
      " [18400 18600 12000 70000]]\n",
      "\n",
      "The number of models: 3\n",
      "The range of one model: 200 Hz\n"
     ]
    }
   ],
   "execution_count": 14
  },
  {
   "metadata": {
    "ExecuteTime": {
     "end_time": "2025-06-19T05:17:18.181223Z",
     "start_time": "2025-06-19T05:17:18.177999Z"
    }
   },
   "cell_type": "code",
   "source": [
    "print(\"Generation of datasets excuted.\", time.asctime())\n",
    "tic = time.time()\n",
    "\n",
    "time_resolution = 0.004\n",
    "time_data = np.arange(0, 60, time_resolution)\n",
    "\n",
    "PRE_PROCESS = False\n",
    "PRE_SCALE = 1\n",
    "\n",
    "MAGNETIC_FIELD = 403.553                        # Unit: Gauss\n",
    "GYRO_MAGNETIC_RATIO = 1.0705*1000               # Unit: Herts\n",
    "WL_VALUE = MAGNETIC_FIELD*GYRO_MAGNETIC_RATIO*2*np.pi\n",
    "\n",
    "CUDA_DEVICE = 0\n",
    "N_PULSE = 32\n",
    "\n",
    "IMAGE_WIDTH = 10\n",
    "TIME_RANGE  = 10000\n",
    "noise_scale = 0.05"
   ],
   "id": "8c7bb3786db1564c",
   "outputs": [
    {
     "name": "stdout",
     "output_type": "stream",
     "text": [
      "Generation of datasets excuted. Thu Jun 19 14:17:18 2025\n"
     ]
    }
   ],
   "execution_count": 15
  },
  {
   "metadata": {
    "ExecuteTime": {
     "end_time": "2025-06-19T05:17:18.956631Z",
     "start_time": "2025-06-19T05:17:18.953683Z"
    }
   },
   "cell_type": "code",
   "source": [
    "exp_data = np.load('./data/exp_data/exp_data_32.npy')\n",
    "exp_data_deno = np.load('./data/exp_data/exp_data_32_deno.npy')"
   ],
   "id": "58d90c09bf74063b",
   "outputs": [],
   "execution_count": 16
  },
  {
   "metadata": {
    "ExecuteTime": {
     "end_time": "2025-06-19T05:17:25.714734Z",
     "start_time": "2025-06-19T05:17:20.030310Z"
    }
   },
   "cell_type": "code",
   "source": [
    "total_raw_pred_list = []\n",
    "total_deno_pred_list = []\n",
    "total_A_lists = []\n",
    "\n",
    "for model_idx, [A_first, A_end, B_first, B_end] in enumerate(model_lists[:1]):\n",
    "\n",
    "    print(\"========================================================================\")\n",
    "    print('A_first:{}, A_end:{}, B_first:{}, B_end:{}'.format(A_first, A_end, B_first, B_end))\n",
    "    print(\"TIME_RANGE, B_first, B_final, IMAGE_WIDTH\", time_range, B_first, B_final, image_width)\n",
    "    print(\"========================================================================\")\n",
    "    A_num = 1\n",
    "    B_num = 1\n",
    "    A_resol, B_resol = 50, B_end-B_first+500\n",
    "\n",
    "    A_idx_list = np.arange(A_first, A_end+A_resol, A_num*A_resol)\n",
    "    if (B_end-B_first)%B_resol==0:\n",
    "        B_idx_list = np.arange(B_first, B_end+B_resol, B_num*B_resol)\n",
    "    else:\n",
    "        B_idx_list = np.arange(B_first, B_end, B_num*B_resol)\n",
    "    AB_idx_set = [[A_idx, B_idx] for A_idx, B_idx in itertools.product(A_idx_list, B_idx_list)]\n",
    "\n",
    "    if abs(AB_idx_set[0][0]) < 10000: continue\n",
    "    A_side_num = 8\n",
    "    A_side_resol = 600\n",
    "\n",
    "    B_target_gap = 0\n",
    "    A_target_margin = 25\n",
    "    A_side_margin = 300\n",
    "    A_far_side_margin = 5000\n",
    "    distance_btw_target_side = 650\n",
    "    class_num = A_num*B_num + 1\n",
    "    side_candi_num = 5\n",
    "\n",
    "    class_num = A_num*B_num + 1\n",
    "    cpu_num_for_multi = 20\n",
    "    batch_for_multi = 128\n",
    "    class_batch = cpu_num_for_multi*batch_for_multi\n",
    "\n",
    "    spin_zero_scale = {'same':0.5, 'side':0.20, 'mid':0.05, 'far':0.05}\n",
    "\n",
    "    if N_PULSE==32:\n",
    "        B_side_min, B_side_max = 6000, 70000\n",
    "        B_side_gap = 5000\n",
    "        B_target_gap = 1000\n",
    "\n",
    "    elif N_PULSE==256:\n",
    "        B_side_min, B_side_max = 1000, 25000\n",
    "        B_side_gap = 500\n",
    "        B_target_gap = 0\n",
    "\n",
    "    if ((N_PULSE == 32) & (B_first<11000)):\n",
    "        PRE_PROCESS = True\n",
    "        PRE_SCALE = 8\n",
    "        print(\"==================== PRE_PROCESSING:True =====================\")\n",
    "\n",
    "    args = (AB_lists_dic, N_PULSE, A_num, B_num, A_resol, B_resol, A_side_num, A_side_resol, B_side_min,\n",
    "                B_side_max, B_target_gap, B_side_gap, A_target_margin, A_side_margin, A_far_side_margin,\n",
    "                class_batch, class_num, spin_zero_scale, distance_btw_target_side, side_candi_num)\n",
    "\n",
    "    TPk_AB_candi, Y_train_arr, _ = gen_TPk_AB_candidates(AB_idx_set, False, *args)\n",
    "\n",
    "    total_idx = []\n",
    "    for AB_temp_set in AB_idx_set:\n",
    "        A_temp_index = AB_temp_set[0]\n",
    "        temp_idx = get_model_index(total_indices, A_temp_index, time_thres_idx=time_range-20, image_width=image_width)\n",
    "        temp_idx = return_index_without_A_idx(total_indices, temp_idx, 0, time_range, width=25)[0]\n",
    "        total_idx.append(temp_idx.shape[0])\n",
    "    cut_idx = min(total_idx)\n",
    "\n",
    "    X_train_arr = np.zeros((class_num, len(AB_idx_set)*class_batch, cut_idx, 2*image_width+1))\n",
    "    X_train_TPk_arr = np.zeros((class_num, len(AB_idx_set)*class_batch, 1))\n",
    "\n",
    "    for idx1, [A_idx, B_idx] in enumerate(AB_idx_set):\n",
    "        model_index = get_model_index(total_indices, A_idx, time_thres_idx=time_range-20, image_width=image_width)\n",
    "        model_index = return_index_without_A_idx(total_indices, model_index, 0, time_range, width=25)[0]\n",
    "        model_index = model_index[:cut_idx, :]\n",
    "\n",
    "        for class_idx in range(class_num):\n",
    "            for idx2 in range(cpu_num_for_multi):\n",
    "                AB_lists_batch = TPk_AB_candi[class_idx, idx1*class_batch+idx2*batch_for_multi:idx1*class_batch+(idx2+1)*batch_for_multi]\n",
    "                globals()[\"pool_{}\".format(idx2)] = pool.apply_async(gen_M_arr_batch, [AB_lists_batch, model_index, time_data[:time_range],\n",
    "                                                                                        WL_VALUE, N_PULSE, PRE_PROCESS, PRE_SCALE,\n",
    "                                                                                        noise_scale])\n",
    "\n",
    "            for idx3 in range(cpu_num_for_multi):\n",
    "                X_train_arr[class_idx, idx1*class_batch+idx3*batch_for_multi:idx1*class_batch+(idx3+1)*batch_for_multi] = globals()[\"pool_{}\".format(idx3)].get(timeout=None)\n",
    "                X_train_TPk_arr[class_idx, idx1*class_batch+idx3*batch_for_multi:idx1*class_batch+(idx3+1)*batch_for_multi, 0] = A_idx\n",
    "            print(\"_\", end=' ')\n",
    "\n",
    "\n",
    "    plt.figure(facecolor='w')\n",
    "    plt.pcolor(exp_data_deno[model_index])\n",
    "    plt.colorbar()\n",
    "    plt.title('Test image')\n",
    "\n",
    "    torch.cuda.set_device(device=CUDA_DEVICE)\n",
    "    epochs = 15\n",
    "    valid_batch = 4096\n",
    "    valid_mini_batch = 1024\n",
    "\n",
    "    # Reshape\n",
    "    X_train_arr = X_train_arr.reshape(class_num*len(AB_idx_set)*class_batch, model_index.flatten().shape[0])\n",
    "    Y_train_arr = Y_train_arr.reshape(class_num*len(AB_idx_set)*class_batch, class_num)\n",
    "\n",
    "    X_train_arr, Y_train_arr = shuffle(X_train_arr, Y_train_arr)\n",
    "    model = HPC(X_train_arr.shape[1], Y_train_arr.shape[1]).cuda()\n",
    "    try:\n",
    "        model(torch.Tensor(X_train_arr[:5]).cuda())\n",
    "    except:\n",
    "        raise NameError(\"The input shape should be revised\")\n",
    "\n",
    "    total_parameter = sum(p.numel() for p in model.parameters())\n",
    "    print('total_parameter: ', total_parameter / 1000000, 'M')\n",
    "\n",
    "    MODEL_PATH = SAVE_DIR_NAME\n",
    "    if not os.path.exists(MODEL_PATH): os.mkdir(MODEL_PATH)\n",
    "\n",
    "    mini_batch_list = [2048]\n",
    "    learning_rate_list = [5e-6]\n",
    "    op_list = [['Adabound', [30,15,7,1]]]\n",
    "    criterion = nn.BCELoss().cuda()\n",
    "    hyperparameter_set = [[mini_batch, learning_rate, selected_optim_name] for mini_batch, learning_rate, selected_optim_name in itertools.product(mini_batch_list, learning_rate_list, op_list)]\n",
    "    print(\"==================== A_idx: {}, B_idx: {} ======================\".format(A_first, B_first))\n",
    "\n",
    "    total_loss, total_val_loss, total_acc, trained_model = train(MODEL_PATH, N_PULSE, X_train_arr, Y_train_arr, model, hyperparameter_set, criterion,\n",
    "                                                                epochs, valid_batch, valid_mini_batch, A_first, A_end, B_first, B_end)\n",
    "    min_A = np.min(np.array(AB_idx_set)[:,0])\n",
    "    max_A = np.max(np.array(AB_idx_set)[:,0])\n",
    "\n",
    "    model.load_state_dict(torch.load(trained_model[0][0]))\n",
    "    model.eval()\n",
    "    print(\"Model loaded as evalutation mode. Model path:\", trained_model[0][0])\n",
    "\n",
    "    M_modified_tensor = torch.Tensor(exp_data_deno[model_index].flatten()).cuda()\n",
    "    M_modified_tensor = torch.unsqueeze(M_modified_tensor, 0)\n",
    "    print(model(M_modified_tensor))\n",
    "\n",
    "print(\"\\nData Generation Completed.\")"
   ],
   "id": "5d9f40de948b1e42",
   "outputs": [
    {
     "name": "stdout",
     "output_type": "stream",
     "text": [
      "========================================================================\n",
      "A_first:17900, A_end:18100, B_first:12000, B_end:70000\n",
      "TIME_RANGE, B_first, B_final, IMAGE_WIDTH 10000 12000 70000 100\n",
      "========================================================================\n",
      "_ _ _ _ _ _ _ _ _ _ total_parameter:  5.514754 M\n",
      "==================== A_idx: 17900, B_idx: 12000 ======================\n",
      "train_batch:  21504 valid_batch:  4096\n",
      "\n",
      "\n",
      "========================================================================================================\n",
      " Training Start:  Thu Jun 19 14:17:23 2025\n",
      " mini_batch: 2048  | learning_rate:  5e-06  | selected_optim_name:  ['Adabound', [30, 15, 7, 1]]  |\n",
      "========================================================================================================\n",
      "Epoch:    1  | Loss = 0.49461 | Val_loss: 0.65622 | Accuracy: 54.49 % | time: 0.392(s) | lr:  5e-06\n",
      "Epoch:    2  | Loss = 0.29832 | Val_loss: 0.61513 | Accuracy: 55.96 % | time: 0.123(s) | lr:  5e-06\n",
      "Epoch:    3  | Loss = 0.23363 | Val_loss: 0.59154 | Accuracy: 60.55 % | time: 0.12(s) | lr:  5e-06\n",
      "Epoch:    4  | Loss = 0.21298 | Val_loss: 0.46708 | Accuracy: 73.14 % | time: 0.119(s) | lr:  5e-06\n",
      "Epoch:    5  | Loss = 0.21368 | Val_loss: 0.30453 | Accuracy: 90.62 % | time: 0.125(s) | lr:  5e-06\n",
      "Epoch:    6  | Loss = 0.20441 | Val_loss: 0.26824 | Accuracy: 89.75 % | time: 0.115(s) | lr:  5e-06\n",
      "Epoch:    7  | Loss = 0.20148 | Val_loss: 0.23965 | Accuracy: 90.53 % | time: 0.121(s) | lr:  5e-06\n",
      "Epoch:    8  | Loss = 0.19585 | Val_loss: 0.23484 | Accuracy: 91.89 % | time: 0.12(s) | lr:  5e-06\n",
      "Epoch:    9  | Loss = 0.18974 | Val_loss: 0.21322 | Accuracy: 92.38 % | time: 0.118(s) | lr:  5e-06\n",
      "Epoch:   10  | Loss = 0.18095 | Val_loss: 0.23499 | Accuracy: 91.11 % | time: 0.118(s) | lr:  1.75e-06\n",
      "Epoch:   11  | Loss = 0.18018 | Val_loss: 0.24790 | Accuracy: 89.16 % | time: 0.117(s) | lr:  6.125e-07\n",
      "Epoch:   12  | Loss = 0.17985 | Val_loss: 0.21691 | Accuracy: 91.11 % | time: 0.12(s) | lr:  6.125e-07\n",
      "Epoch:   13  | Loss = 0.17933 | Val_loss: 0.22670 | Accuracy: 90.43 % | time: 0.125(s) | lr:  2.1437499999999996e-07\n",
      "Done. Training Time:  Thu Jun 19 14:17:25 2025\n",
      "Total consumed time: 1.981372356414795\n",
      "Model loaded as evalutation mode. Model path: ./data/results/_N32_batch2048_lr5e-06_Adabound.pt\n",
      "tensor([[2.2491e-05, 9.9997e-01]], device='cuda:0', grad_fn=<SigmoidBackward0>)\n",
      "\n",
      "Data Generation Completed.\n"
     ]
    },
    {
     "data": {
      "text/plain": [
       "<Figure size 640x480 with 2 Axes>"
      ],
      "image/png": "[encoded data removed]"
     },
     "metadata": {},
     "output_type": "display_data"
    }
   ],
   "execution_count": 17
  },
  {
   "metadata": {
    "ExecuteTime": {
     "end_time": "2025-06-18T08:55:43.177352Z",
     "start_time": "2025-06-18T08:55:43.174372Z"
    }
   },
   "cell_type": "code",
   "source": [
    "A_index = 19050\n",
    "target_spin = AB_lists_dic[A_index][500] / 1000\n",
    "print(target_spin)\n",
    "total_spins = np.array([\n",
    "                        target_spin,\n",
    "                        [41, 53],\n",
    "                        [18, 11],\n",
    "                        [-17, 18],\n",
    "                        [-23, 15],\n",
    "                        [-35, 28],\n",
    "])"
   ],
   "id": "94ac810fed10138",
   "outputs": [
    {
     "name": "stdout",
     "output_type": "stream",
     "text": [
      "[18.3085 27.7   ]\n"
     ]
    }
   ],
   "execution_count": 51
  },
  {
   "metadata": {
    "ExecuteTime": {
     "end_time": "2025-06-18T08:55:56.033304Z",
     "start_time": "2025-06-18T08:55:55.951024Z"
    }
   },
   "cell_type": "code",
   "source": [
    "M_values = M_list_return(time_data*1e-6, WL_VALUE, total_spins*2000*np.pi, N_PULSE)\n",
    "M_modified = 1 - M_values[model_index]\n",
    "plt.figure(facecolor='w')\n",
    "plt.pcolor(M_modified)\n",
    "plt.colorbar()\n",
    "plt.title('Test image')"
   ],
   "id": "2a5ebe4782fade1c",
   "outputs": [
    {
     "data": {
      "text/plain": [
       "Text(0.5, 1.0, 'Test image')"
      ]
     },
     "execution_count": 52,
     "metadata": {},
     "output_type": "execute_result"
    },
    {
     "data": {
      "text/plain": [
       "<Figure size 640x480 with 2 Axes>"
      ],
      "image/png": "[encoded data removed]"
     },
     "metadata": {},
     "output_type": "display_data"
    }
   ],
   "execution_count": 52
  },
  {
   "metadata": {
    "ExecuteTime": {
     "end_time": "2025-06-18T08:56:06.650912Z",
     "start_time": "2025-06-18T08:56:06.563049Z"
    }
   },
   "cell_type": "code",
   "source": [
    "M_modified_tensor = torch.Tensor(M_modified.flatten()).cuda()\n",
    "M_modified_tensor = torch.unsqueeze(M_modified_tensor, 0)\n",
    "print(model(M_modified_tensor))"
   ],
   "id": "f4a91110efdd83a9",
   "outputs": [
    {
     "name": "stdout",
     "output_type": "stream",
     "text": [
      "tensor([[0.1407, 0.8883]], device='cuda:0', grad_fn=<SigmoidBackward0>)\n"
     ]
    }
   ],
   "execution_count": 53
  },
  {
   "metadata": {},
   "cell_type": "code",
   "outputs": [],
   "execution_count": null,
   "source": "",
   "id": "3d38c52278d8436f"
  }
 ],
 "metadata": {
  "kernelspec": {
   "display_name": "Python 3",
   "language": "python",
   "name": "python3"
  },
  "language_info": {
   "codemirror_mode": {
    "name": "ipython",
    "version": 2
   },
   "file_extension": ".py",
   "mimetype": "text/x-python",
   "name": "python",
   "nbconvert_exporter": "python",
   "pygments_lexer": "ipython2",
   "version": "2.7.6"
  }
 },
 "nbformat": 4,
 "nbformat_minor": 5
}
