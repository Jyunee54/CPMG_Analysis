{
 "cells": [
  {
   "cell_type": "code",
   "id": "initial_id",
   "metadata": {
    "collapsed": true,
    "ExecuteTime": {
     "end_time": "2025-04-23T06:36:55.378683Z",
     "start_time": "2025-04-23T06:36:26.558104Z"
    }
   },
   "source": [
    "import torch\n",
    "print(torch.__version__)  # PyTorch 버전 출력\n",
    "print(torch.cuda.is_available())  # CUDA 사용 가능 여부 확인\n"
   ],
   "outputs": [
    {
     "name": "stdout",
     "output_type": "stream",
     "text": [
      "2.7.0+cu126\n",
      "True\n"
     ]
    }
   ],
   "execution_count": 2
  },
  {
   "metadata": {
    "ExecuteTime": {
     "end_time": "2025-05-08T06:49:45.399174Z",
     "start_time": "2025-05-08T06:49:45.396479Z"
    }
   },
   "cell_type": "code",
   "source": [
    "import numpy as np\n",
    "print(np.__version__)"
   ],
   "id": "70c88257f2ab5bd0",
   "outputs": [
    {
     "name": "stdout",
     "output_type": "stream",
     "text": [
      "2.2.5\n"
     ]
    }
   ],
   "execution_count": 2
  },
  {
   "metadata": {
    "ExecuteTime": {
     "end_time": "2025-05-08T06:56:52.254714Z",
     "start_time": "2025-05-08T06:56:52.251908Z"
    }
   },
   "cell_type": "code",
   "source": [
    "import matplotlib\n",
    "print(matplotlib.__version__)"
   ],
   "id": "47d9749cb61c4166",
   "outputs": [
    {
     "name": "stdout",
     "output_type": "stream",
     "text": [
      "3.10.1\n"
     ]
    }
   ],
   "execution_count": 6
  },
  {
   "metadata": {
    "ExecuteTime": {
     "end_time": "2025-05-08T06:57:27.123561Z",
     "start_time": "2025-05-08T06:57:27.121437Z"
    }
   },
   "cell_type": "code",
   "source": [
    "import plotly\n",
    "print(plotly.__version__)"
   ],
   "id": "5e78624f1f0789dd",
   "outputs": [
    {
     "name": "stdout",
     "output_type": "stream",
     "text": [
      "6.0.1\n"
     ]
    }
   ],
   "execution_count": 7
  },
  {
   "metadata": {
    "ExecuteTime": {
     "end_time": "2025-05-08T07:06:28.035601Z",
     "start_time": "2025-05-08T07:06:23.289094Z"
    }
   },
   "cell_type": "code",
   "source": [
    "import torchvision\n",
    "import torchaudio\n",
    "\n",
    "print(\"torchvision:\", torchvision.__version__)\n",
    "print(\"torchaudio:\", torchaudio.__version__)"
   ],
   "id": "c629df3b4187694c",
   "outputs": [
    {
     "name": "stdout",
     "output_type": "stream",
     "text": [
      "torchvision: 0.22.0+cu126\n",
      "torchaudio: 2.7.0+cu126\n"
     ]
    }
   ],
   "execution_count": 8
  },
  {
   "metadata": {},
   "cell_type": "code",
   "outputs": [],
   "execution_count": null,
   "source": "",
   "id": "66e664c4ca68ef3"
  }
 ],
 "metadata": {
  "kernelspec": {
   "display_name": "Python 3",
   "language": "python",
   "name": "python3"
  },
  "language_info": {
   "codemirror_mode": {
    "name": "ipython",
    "version": 2
   },
   "file_extension": ".py",
   "mimetype": "text/x-python",
   "name": "python",
   "nbconvert_exporter": "python",
   "pygments_lexer": "ipython2",
   "version": "2.7.6"
  }
 },
 "nbformat": 4,
 "nbformat_minor": 5
}
