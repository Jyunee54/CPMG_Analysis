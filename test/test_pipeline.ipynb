{
 "cells": [
  {
   "metadata": {
    "ExecuteTime": {
     "end_time": "2025-04-24T09:06:32.353017Z",
     "start_time": "2025-04-24T09:06:32.171725Z"
    }
   },
   "cell_type": "code",
   "source": [
    "from imports.models import *\n",
    "from imports.utils import *\n",
    "import adabound as Adabound\n",
    "\n",
    "import torch\n",
    "import matplotlib.pyplot as plt\n",
    "import numpy as np"
   ],
   "id": "f1f9bb84842c1d6c",
   "outputs": [],
   "execution_count": 8
  },
  {
   "metadata": {
    "collapsed": true,
    "ExecuteTime": {
     "end_time": "2025-04-24T09:00:28.774500Z",
     "start_time": "2025-04-24T09:00:28.772287Z"
    }
   },
   "cell_type": "code",
   "source": [
    "def apply_denoise_model(x_noisy_1d, denoise_model):\n",
    "    x_tensor = torch.Tensor(x_noisy_1d).unsqueeze(0).unsqueeze(0).cuda()  # (1, 1, T)\n",
    "    x_denoised_tensor = denoise_model(x_tensor)\n",
    "    return x_denoised_tensor.squeeze().detach().cpu().numpy()\n"
   ],
   "id": "initial_id",
   "outputs": [],
   "execution_count": 1
  },
  {
   "metadata": {
    "ExecuteTime": {
     "end_time": "2025-04-24T09:00:40.391353Z",
     "start_time": "2025-04-24T09:00:40.389067Z"
    }
   },
   "cell_type": "code",
   "source": [
    "def reshape_to_2D(x_1d, model_index):\n",
    "    \"\"\"\n",
    "    model_index: (n_rows, image_width*2+1)\n",
    "    x_1d: denoised 1D signal (length T)\n",
    "    return: 2D array (n_rows, image_width*2+1)\n",
    "    \"\"\"\n",
    "    return x_1d[model_index]\n"
   ],
   "id": "fb5197d026a1f66e",
   "outputs": [],
   "execution_count": 2
  },
  {
   "metadata": {
    "ExecuteTime": {
     "end_time": "2025-04-24T09:00:59.369280Z",
     "start_time": "2025-04-24T09:00:59.366742Z"
    }
   },
   "cell_type": "code",
   "source": [
    "def predict_with_HPC(x_2d, hpc_model):\n",
    "    x_flat = x_2d.flatten()  # HPC는 1D 입력 받음\n",
    "    x_tensor = torch.Tensor(x_flat).unsqueeze(0).cuda()  # (1, T_flat)\n",
    "    with torch.no_grad():\n",
    "        hpc_model.eval()\n",
    "        prediction = hpc_model(x_tensor).squeeze().cpu().numpy()\n",
    "    return prediction\n"
   ],
   "id": "5360a4201eabefba",
   "outputs": [],
   "execution_count": 4
  },
  {
   "metadata": {
    "ExecuteTime": {
     "end_time": "2025-04-24T09:01:06.940066Z",
     "start_time": "2025-04-24T09:01:06.937474Z"
    }
   },
   "cell_type": "code",
   "source": [
    "def full_pipeline(x_noisy_1d, model_index, denoise_model, hpc_model):\n",
    "    # 1. Denoise\n",
    "    x_denoised = apply_denoise_model(x_noisy_1d, denoise_model)\n",
    "\n",
    "    # 2. 1D → 2D\n",
    "    x_2d = reshape_to_2D(x_denoised, model_index)\n",
    "\n",
    "    # 3. HPC 예측\n",
    "    prediction = predict_with_HPC(x_2d, hpc_model)\n",
    "\n",
    "    return x_denoised, x_2d, prediction\n"
   ],
   "id": "bf602be019da4f8d",
   "outputs": [],
   "execution_count": 5
  },
  {
   "metadata": {
    "ExecuteTime": {
     "end_time": "2025-04-24T09:10:43.775159Z",
     "start_time": "2025-04-24T09:10:42.400618Z"
    }
   },
   "cell_type": "code",
   "source": [
    "total_indices = np.load('../data/total_indices/total_indices_v4_full.npy', allow_pickle=True).item()\n",
    "\n",
    "# AB_lists_dic: a dictionary file that contains nuclear spins (value: (A,B) pairs (Hz)) with a corresponding target period (key: A (Hz)).\n",
    "AB_lists_dic = np.load('../data/AB_target_dic/AB_target_dic_v4_s0.npy', allow_pickle=True).item()\n",
    "for i in range(1, 16):\n",
    "    temp = np.load('../data/AB_target_dic/AB_target_dic_v4_s{}.npy'.format(i), allow_pickle=True).item()\n",
    "    AB_lists_dic.update(temp)"
   ],
   "id": "ec5522843ea43cbf",
   "outputs": [],
   "execution_count": 9
  },
  {
   "metadata": {
    "ExecuteTime": {
     "end_time": "2025-04-24T09:11:25.440632Z",
     "start_time": "2025-04-24T09:11:25.437680Z"
    }
   },
   "cell_type": "code",
   "source": [
    "N_SAMPLES_TRAIN = 8192*4\n",
    "N_SAMPLES_VALID = 8192\n",
    "data_size = 1024\n",
    "\n",
    "N_PULSE_32 = 32\n",
    "N_PULSE_256 = 256\n",
    "\n",
    "time_data = np.arange(0, 60, 0.004)\n",
    "\n",
    "X_valid = np.zeros((N_SAMPLES_VALID, data_size))\n",
    "Y_valid = np.zeros((N_SAMPLES_VALID, data_size))\n",
    "Y_valid_pure = np.zeros((N_SAMPLES_VALID, data_size))\n",
    "\n",
    "# for i in range(int(N_SAMPLES_VALID/ABlists_valid_0.shape[0])):\n",
    "#     for j in range(len(ABlists_valid_0)):\n",
    "#         rand_idx = np.random.randint(11000)\n",
    "#         time_data_temp = time_data[rand_idx:rand_idx+data_size]\n",
    "#\n",
    "#         X_valid[i*len(ABlists_valid_0)+j], \\\n",
    "#         Y_valid[i*len(ABlists_valid_0)+j], \\\n",
    "#         Y_valid_pure[i*len(ABlists_valid_0)+j], \\\n",
    "#         = Px_noise_data(time_data_temp, WL_VALUE, globals()['ABlists_valid_{}'.format(i)][j], N_PULSE_32, rand_idx, data_size, y_train_pure=True)"
   ],
   "id": "16118f9b2102eab3",
   "outputs": [],
   "execution_count": 10
  },
  {
   "metadata": {
    "ExecuteTime": {
     "end_time": "2025-04-24T09:15:21.161470Z",
     "start_time": "2025-04-24T09:15:20.930351Z"
    }
   },
   "cell_type": "code",
   "source": [
    "# 예제: 노이즈가 낀 실험 CPMG 시그널\n",
    "x_noisy_example = X_valid[0].squeeze()\n",
    "\n",
    "# 모델 인덱스 (TPk에 해당하는 A_index 기준)\n",
    "A_index = 10050\n",
    "model_index = get_model_index(total_indices, A_index, time_thres_idx=time_data.shape[0], image_width=10)\n",
    "\n",
    "# 모델 불러오기\n",
    "denoise_model = Denoise_Model().cuda()\n",
    "denoise_model.load_state_dict(torch.load('../data/models/denoising_model.pt'))\n",
    "denoise_model.eval()\n",
    "\n",
    "cut_idx, image_width = model_index.shape[0], 10  # 예시\n",
    "input_size = cut_idx * (2 * image_width + 1)\n",
    "output_size = 3\n",
    "\n",
    "hpc_model = HPC(input_size, output_size).cuda()\n",
    "hpc_model.load_state_dict(torch.load('../data/models/hpc_model_504.pt'))\n",
    "hpc_model.eval()\n",
    "\n",
    "\n",
    "\n",
    "# 실행\n",
    "x_denoised, x_2d, prediction = full_pipeline(x_noisy_example, model_index, denoise_model, hpc_model)\n",
    "\n",
    "# 시각화\n",
    "plt.figure(facecolor='w')\n",
    "plt.subplot(1,3,1)\n",
    "plt.plot(x_noisy_example)\n",
    "plt.title('Noisy input')\n",
    "\n",
    "plt.subplot(1,3,2)\n",
    "plt.plot(x_denoised)\n",
    "plt.title('Denoised')\n",
    "\n",
    "plt.subplot(1,3,3)\n",
    "plt.pcolor(x_2d)\n",
    "plt.title('2D Image (HPC input)')\n",
    "\n",
    "print(\"Prediction vector:\", prediction)\n"
   ],
   "id": "6506d7d9560cb1fd",
   "outputs": [
    {
     "ename": "RuntimeError",
     "evalue": "Error(s) in loading state_dict for HPC:\n\tsize mismatch for linear1.weight: copying a param with shape torch.Size([2048, 1024]) from checkpoint, the shape in current model is torch.Size([2048, 1092]).\n\tsize mismatch for linear4.weight: copying a param with shape torch.Size([1024, 512]) from checkpoint, the shape in current model is torch.Size([3, 512]).\n\tsize mismatch for linear4.bias: copying a param with shape torch.Size([1024]) from checkpoint, the shape in current model is torch.Size([3]).",
     "output_type": "error",
     "traceback": [
      "\u001B[31m---------------------------------------------------------------------------\u001B[39m",
      "\u001B[31mRuntimeError\u001B[39m                              Traceback (most recent call last)",
      "\u001B[36mCell\u001B[39m\u001B[36m \u001B[39m\u001B[32mIn[14]\u001B[39m\u001B[32m, line 18\u001B[39m\n\u001B[32m     15\u001B[39m output_size = \u001B[32m3\u001B[39m\n\u001B[32m     17\u001B[39m hpc_model = HPC(input_size, output_size).cuda()\n\u001B[32m---> \u001B[39m\u001B[32m18\u001B[39m \u001B[43mhpc_model\u001B[49m\u001B[43m.\u001B[49m\u001B[43mload_state_dict\u001B[49m\u001B[43m(\u001B[49m\u001B[43mtorch\u001B[49m\u001B[43m.\u001B[49m\u001B[43mload\u001B[49m\u001B[43m(\u001B[49m\u001B[33;43m'\u001B[39;49m\u001B[33;43m../data/models/hpc_model.pt\u001B[39;49m\u001B[33;43m'\u001B[39;49m\u001B[43m)\u001B[49m\u001B[43m)\u001B[49m\n\u001B[32m     19\u001B[39m hpc_model.eval()\n\u001B[32m     23\u001B[39m \u001B[38;5;66;03m# 실행\u001B[39;00m\n",
      "\u001B[36mFile \u001B[39m\u001B[32m~\\Desktop\\Deep Learning\\.venv\\Lib\\site-packages\\torch\\nn\\modules\\module.py:2593\u001B[39m, in \u001B[36mModule.load_state_dict\u001B[39m\u001B[34m(self, state_dict, strict, assign)\u001B[39m\n\u001B[32m   2585\u001B[39m         error_msgs.insert(\n\u001B[32m   2586\u001B[39m             \u001B[32m0\u001B[39m,\n\u001B[32m   2587\u001B[39m             \u001B[33m\"\u001B[39m\u001B[33mMissing key(s) in state_dict: \u001B[39m\u001B[38;5;132;01m{}\u001B[39;00m\u001B[33m. \u001B[39m\u001B[33m\"\u001B[39m.format(\n\u001B[32m   2588\u001B[39m                 \u001B[33m\"\u001B[39m\u001B[33m, \u001B[39m\u001B[33m\"\u001B[39m.join(\u001B[33mf\u001B[39m\u001B[33m'\u001B[39m\u001B[33m\"\u001B[39m\u001B[38;5;132;01m{\u001B[39;00mk\u001B[38;5;132;01m}\u001B[39;00m\u001B[33m\"\u001B[39m\u001B[33m'\u001B[39m \u001B[38;5;28;01mfor\u001B[39;00m k \u001B[38;5;129;01min\u001B[39;00m missing_keys)\n\u001B[32m   2589\u001B[39m             ),\n\u001B[32m   2590\u001B[39m         )\n\u001B[32m   2592\u001B[39m \u001B[38;5;28;01mif\u001B[39;00m \u001B[38;5;28mlen\u001B[39m(error_msgs) > \u001B[32m0\u001B[39m:\n\u001B[32m-> \u001B[39m\u001B[32m2593\u001B[39m     \u001B[38;5;28;01mraise\u001B[39;00m \u001B[38;5;167;01mRuntimeError\u001B[39;00m(\n\u001B[32m   2594\u001B[39m         \u001B[33m\"\u001B[39m\u001B[33mError(s) in loading state_dict for \u001B[39m\u001B[38;5;132;01m{}\u001B[39;00m\u001B[33m:\u001B[39m\u001B[38;5;130;01m\\n\u001B[39;00m\u001B[38;5;130;01m\\t\u001B[39;00m\u001B[38;5;132;01m{}\u001B[39;00m\u001B[33m\"\u001B[39m.format(\n\u001B[32m   2595\u001B[39m             \u001B[38;5;28mself\u001B[39m.\u001B[34m__class__\u001B[39m.\u001B[34m__name__\u001B[39m, \u001B[33m\"\u001B[39m\u001B[38;5;130;01m\\n\u001B[39;00m\u001B[38;5;130;01m\\t\u001B[39;00m\u001B[33m\"\u001B[39m.join(error_msgs)\n\u001B[32m   2596\u001B[39m         )\n\u001B[32m   2597\u001B[39m     )\n\u001B[32m   2598\u001B[39m \u001B[38;5;28;01mreturn\u001B[39;00m _IncompatibleKeys(missing_keys, unexpected_keys)\n",
      "\u001B[31mRuntimeError\u001B[39m: Error(s) in loading state_dict for HPC:\n\tsize mismatch for linear1.weight: copying a param with shape torch.Size([2048, 1024]) from checkpoint, the shape in current model is torch.Size([2048, 1092]).\n\tsize mismatch for linear4.weight: copying a param with shape torch.Size([1024, 512]) from checkpoint, the shape in current model is torch.Size([3, 512]).\n\tsize mismatch for linear4.bias: copying a param with shape torch.Size([1024]) from checkpoint, the shape in current model is torch.Size([3])."
     ]
    }
   ],
   "execution_count": 14
  },
  {
   "metadata": {},
   "cell_type": "code",
   "outputs": [],
   "execution_count": null,
   "source": "",
   "id": "cbe5009474208526"
  }
 ],
 "metadata": {
  "kernelspec": {
   "display_name": "Python 3",
   "language": "python",
   "name": "python3"
  },
  "language_info": {
   "codemirror_mode": {
    "name": "ipython",
    "version": 2
   },
   "file_extension": ".py",
   "mimetype": "text/x-python",
   "name": "python",
   "nbconvert_exporter": "python",
   "pygments_lexer": "ipython2",
   "version": "2.7.6"
  }
 },
 "nbformat": 4,
 "nbformat_minor": 5
}
