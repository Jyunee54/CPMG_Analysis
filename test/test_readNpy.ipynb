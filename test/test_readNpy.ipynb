{
 "cells": [
  {
   "metadata": {
    "ExecuteTime": {
     "end_time": "2025-04-24T02:20:07.337482Z",
     "start_time": "2025-04-24T02:20:07.160016Z"
    }
   },
   "cell_type": "code",
   "source": "import numpy as np",
   "id": "93573e62fea351d1",
   "outputs": [],
   "execution_count": 2
  },
  {
   "metadata": {
    "ExecuteTime": {
     "end_time": "2025-04-24T02:20:10.911335Z",
     "start_time": "2025-04-24T02:20:10.907696Z"
    }
   },
   "cell_type": "code",
   "source": [
    "# .npy 파일 경로\n",
    "file_path = '../data/results/regression_results.npy'\n",
    "\n",
    "# .npy 파일 읽기\n",
    "data = np.load(file_path)\n",
    "\n",
    "# 데이터 출력\n",
    "print(data)"
   ],
   "id": "b004dbac120495a2",
   "outputs": [
    {
     "name": "stdout",
     "output_type": "stream",
     "text": [
      "[]\n"
     ]
    }
   ],
   "execution_count": 3
  },
  {
   "metadata": {},
   "cell_type": "code",
   "outputs": [],
   "execution_count": null,
   "source": "",
   "id": "a857a4ab21ed4cbd"
  }
 ],
 "metadata": {
  "kernelspec": {
   "name": "python3",
   "language": "python",
   "display_name": "Python 3 (ipykernel)"
  }
 },
 "nbformat": 5,
 "nbformat_minor": 9
}
